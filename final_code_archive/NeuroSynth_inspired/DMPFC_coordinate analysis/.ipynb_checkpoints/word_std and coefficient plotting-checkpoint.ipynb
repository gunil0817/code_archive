{
 "cells": [
  {
   "cell_type": "code",
   "execution_count": 2,
   "metadata": {},
   "outputs": [],
   "source": [
    "from sklearn.cluster import KMeans\n",
    "import pandas as pd\n",
    "from mpl_toolkits import mplot3d\n",
    "import numpy as np\n",
    "import matplotlib.pyplot as plt\n",
    "from sklearn.metrics import silhouette_samples"
   ]
  },
  {
   "cell_type": "code",
   "execution_count": 18,
   "metadata": {},
   "outputs": [],
   "source": [
    "#df = pd.read_table('oldDat.csv', delimiter=\",\", header='infer')\n",
    "df = pd.read_table('newdat.csv', delimiter=\",\", header='infer')\n",
    "\n",
    "df.head()\n",
    "\n",
    "subjSTD = [];\n",
    "for i in np.arange(len(df)):\n",
    "    subjSTD.append(np.std(df.iloc[i,:]))\n",
    "           \n",
    "        \n",
    "w =df.iloc[:,0]\n",
    "x =df.iloc[:,1]\n",
    "y = df.iloc[:,2]\n",
    "z = df.iloc[:,3]\n",
    "datas = pd.DataFrame(data=[w, x,y,z])\n",
    "\n",
    "X = datas.iloc[::]\n",
    "X = np.array(X)\n",
    "\n"
   ]
  },
  {
   "cell_type": "code",
   "execution_count": 23,
   "metadata": {},
   "outputs": [
    {
     "data": {
      "text/plain": [
       "Text(20.625,0.5,'Rose')"
      ]
     },
     "execution_count": 23,
     "metadata": {},
     "output_type": "execute_result"
    },
    {
     "data": {
      "image/png": "[encoded data removed]",
      "text/plain": [
       "<matplotlib.figure.Figure at 0x1d0476cacf8>"
      ]
     },
     "metadata": {},
     "output_type": "display_data"
    }
   ],
   "source": [
    "plt.scatter(subjSTD, y)\n",
    "plt.grid()\n",
    "plt.tight_layout()\n",
    "plt.xlabel('Word_std')\n",
    "plt.ylabel('Rose')"
   ]
  },
  {
   "cell_type": "code",
   "execution_count": null,
   "metadata": {},
   "outputs": [],
   "source": [
    "df = pd.read_table('oldDat.csv', delimiter=\",\", header='infer')\n",
    "#df = pd.read_table('newdat.csv', delimiter=\",\", header='infer')\n",
    "\n",
    "df.head()\n",
    "\n",
    "subjSTD = [];\n",
    "for i in np.arange(len(df)):\n",
    "    subjSTD.append(np.std(df.iloc[i,:]))\n",
    "           \n",
    "        \n",
    "w =df.iloc[:,0]\n",
    "x =df.iloc[:,1]\n",
    "y = df.iloc[:,2]\n",
    "z = df.iloc[:,3]\n",
    "datas = pd.DataFrame(data=[w, x,y,z])\n",
    "\n",
    "X = datas.iloc[::]\n",
    "X = np.array(X)\n",
    "\n"
   ]
  }
 ],
 "metadata": {
  "kernelspec": {
   "display_name": "Python 3",
   "language": "python",
   "name": "python3"
  },
  "language_info": {
   "codemirror_mode": {
    "name": "ipython",
    "version": 3
   },
   "file_extension": ".py",
   "mimetype": "text/x-python",
   "name": "python",
   "nbconvert_exporter": "python",
   "pygments_lexer": "ipython3",
   "version": "3.6.4"
  }
 },
 "nbformat": 4,
 "nbformat_minor": 2
}
