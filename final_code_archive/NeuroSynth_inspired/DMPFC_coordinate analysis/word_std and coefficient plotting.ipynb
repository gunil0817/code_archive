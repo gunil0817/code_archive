{
 "cells": [
  {
   "cell_type": "code",
   "execution_count": 2,
   "metadata": {},
   "outputs": [],
   "source": [
    "from sklearn.cluster import KMeans\n",
    "import pandas as pd\n",
    "from mpl_toolkits import mplot3d\n",
    "import numpy as np\n",
    "import matplotlib.pyplot as plt\n",
    "from sklearn.metrics import silhouette_samples"
   ]
  },
  {
   "cell_type": "code",
   "execution_count": 3,
   "metadata": {},
   "outputs": [],
   "source": [
    "#df = pd.read_table('oldDat.csv', delimiter=\",\", header='infer')\n",
    "df = pd.read_table('newdat.csv', delimiter=\",\", header='infer')\n",
    "\n",
    "df.head()\n",
    "\n",
    "subjSTD = [];\n",
    "for i in np.arange(len(df)):\n",
    "    subjSTD.append(np.std(df.iloc[i,:]))\n",
    "           \n",
    "        \n",
    "w =df.iloc[:,0]\n",
    "x =df.iloc[:,1]\n",
    "y = df.iloc[:,2]\n",
    "z = df.iloc[:,3]\n",
    "datas = pd.DataFrame(data=[w, x,y,z])\n",
    "\n",
    "X = datas.iloc[::]\n",
    "X = np.array(X)\n",
    "\n"
   ]
  },
  {
   "cell_type": "code",
   "execution_count": 4,
   "metadata": {},
   "outputs": [
    {
     "data": {
      "text/plain": [
       "Text(20.625,0.5,'Rose')"
      ]
     },
     "execution_count": 4,
     "metadata": {},
     "output_type": "execute_result"
    },
    {
     "data": {
      "image/png": "[encoded data removed]",
      "text/plain": [
       "<matplotlib.figure.Figure at 0x298a4284a20>"
      ]
     },
     "metadata": {},
     "output_type": "display_data"
    }
   ],
   "source": [
    "plt.scatter(subjSTD, y)\n",
    "plt.grid()\n",
    "plt.tight_layout()\n",
    "plt.xlabel('Word_std')\n",
    "plt.ylabel('Rose')"
   ]
  },
  {
   "cell_type": "code",
   "execution_count": 29,
   "metadata": {},
   "outputs": [
    {
     "data": {
      "text/plain": [
       "Text(12.25,0.5,'urine')"
      ]
     },
     "execution_count": 29,
     "metadata": {},
     "output_type": "execute_result"
    },
    {
     "data": {
      "image/png": "[encoded data removed]",
      "text/plain": [
       "<matplotlib.figure.Figure at 0x1d048946390>"
      ]
     },
     "metadata": {},
     "output_type": "display_data"
    }
   ],
   "source": [
    "df = pd.read_table('oldDat.csv', delimiter=\",\", header='infer')\n",
    "#df = pd.read_table('newdat.csv', delimiter=\",\", header='infer')\n",
    "\n",
    "df.head()\n",
    "\n",
    "subjSTD = [];\n",
    "for i in np.arange(len(df)):\n",
    "    subjSTD.append(np.std(df.iloc[i,:]))\n",
    "           \n",
    "        \n",
    "w =df.iloc[:,0]\n",
    "x =df.iloc[:,1]\n",
    "y = df.iloc[:,2]\n",
    "z = df.iloc[:,3]\n",
    "datas = pd.DataFrame(data=[w, x,y,z])\n",
    "\n",
    "X = datas.iloc[::]\n",
    "X = np.array(X)\n",
    "\n",
    "plt.scatter(subjSTD, z)\n",
    "plt.grid()\n",
    "plt.tight_layout()\n",
    "plt.xlabel('Word_std')\n",
    "plt.ylabel('urine')"
   ]
  },
  {
   "cell_type": "code",
   "execution_count": 5,
   "metadata": {},
   "outputs": [
    {
     "data": {
      "text/plain": [
       "[0.46521611333800766,\n",
       " 1.4334436613063335,\n",
       " 0.20432814945348643,\n",
       " 1.6311374431843382,\n",
       " 0.5720084114222757,\n",
       " 0.7212065546095859,\n",
       " 0.29666872216438456,\n",
       " 0.8705437469029922,\n",
       " 0.7814153201057508,\n",
       " 0.5632637934673731,\n",
       " 0.32718875256749447,\n",
       " 0.5722759920474966,\n",
       " 0.48948604159887676,\n",
       " 0.4359422317902327,\n",
       " 1.300792205850163,\n",
       " 0.5473505912352538,\n",
       " 0.6157814130133574,\n",
       " 0.3244047451780252,\n",
       " 0.19912771331777573,\n",
       " 1.4634159570011551,\n",
       " 1.084037662114327,\n",
       " 1.8090027838871885,\n",
       " 0.6516091843867633,\n",
       " 0.9118324943674664,\n",
       " 0.22248655936135245,\n",
       " 0.564432749949873,\n",
       " 0.21741399803679873,\n",
       " 1.8841292422292346,\n",
       " 1.039584972469921,\n",
       " 0.9153797817202772,\n",
       " 1.4179895265229236,\n",
       " 1.5861717344478017,\n",
       " 1.2437088064611164,\n",
       " 1.6936246043974816,\n",
       " 1.4337037308017349,\n",
       " 1.014776471182183,\n",
       " 0.5750901348575611,\n",
       " 1.094420647742391]"
      ]
     },
     "execution_count": 5,
     "metadata": {},
     "output_type": "execute_result"
    }
   ],
   "source": [
    "subjSTD"
   ]
  }
 ],
 "metadata": {
  "kernelspec": {
   "display_name": "Python 3",
   "language": "python",
   "name": "python3"
  },
  "language_info": {
   "codemirror_mode": {
    "name": "ipython",
    "version": 3
   },
   "file_extension": ".py",
   "mimetype": "text/x-python",
   "name": "python",
   "nbconvert_exporter": "python",
   "pygments_lexer": "ipython3",
   "version": "3.6.4"
  }
 },
 "nbformat": 4,
 "nbformat_minor": 2
}
