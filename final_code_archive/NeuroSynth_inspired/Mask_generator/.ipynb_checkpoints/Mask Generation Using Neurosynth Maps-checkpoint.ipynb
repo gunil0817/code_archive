{
 "cells": [
  {
   "cell_type": "code",
   "execution_count": 5,
   "metadata": {},
   "outputs": [],
   "source": [
    "\"\"\"\n",
    "Neurosynth practice example \n",
    "2019_02_13\n",
    "Kun Il Kim\n",
    "\"\"\"\n",
    "# ## Importing modules\n",
    "from neurosynth.base.dataset import Dataset\n",
    "from neurosynth.analysis import meta, decode, network\n",
    "import neurosynth\n",
    "\n",
    "%matplotlib inline\n",
    "import nibabel as nib\n",
    "from nilearn import plotting as niplt\n",
    "import numpy as np\n",
    "\n",
    "#path for the neurosynth data\n",
    "#C:\\Users\\kkim\\Desktop\\neurosynth_project\n",
    "\n"
   ]
  },
  {
   "cell_type": "code",
   "execution_count": 6,
   "metadata": {},
   "outputs": [],
   "source": [
    "#load the neurosynth Archive\n",
    "dataset = Dataset.load('C:/Users/kkim/Desktop/neurosynth_project/data/dataset.pkl')"
   ]
  },
  {
   "cell_type": "code",
   "execution_count": 7,
   "metadata": {},
   "outputs": [
    {
     "name": "stdout",
     "output_type": "stream",
     "text": [
      "175\n",
      "1964\n",
      "358\n"
     ]
    }
   ],
   "source": [
    "#check how many studies are there for each term. Increasing frequency leads to decrease in num studies found. \n",
    "ids1 = dataset.get_studies(features='theory mind', frequency_threshold=0.05)\n",
    "ids2 = dataset.get_studies(features='emotion*', frequency_threshold=0.05)\n",
    "ids3 = dataset.get_studies(features='valence', frequency_threshold=0.05)\n",
    "\n",
    "print(len(ids1))\n",
    "print(len(ids2))\n",
    "print(len(ids3))"
   ]
  },
  {
   "cell_type": "code",
   "execution_count": null,
   "metadata": {},
   "outputs": [],
   "source": [
    "\n",
    "#running the meta analysis and saving the results\n",
    "ids = dataset.get_studies(expression='emotion* | valence | theory mind', frequency_threshold=0.05)\n",
    "ma = meta.MetaAnalysis(dataset, ids)\n",
    "ma.save_results('.', 'EVT')\n",
    "print(\"Found %d studies.\" %len(ids))"
   ]
  },
  {
   "cell_type": "code",
   "execution_count": null,
   "metadata": {},
   "outputs": [],
   "source": [
    "#loading the mata data. the meta data has various values due to its z scores. Convert all the positive numbers to 1. \n",
    "\n",
    "task1 = nib.load('EVT_association-test_z_FDR_0.01.nii.gz')\n",
    "task1 = nib.Nifti1Image((task1.get_data() > 0).astype('int'), task1.get_header().get_best_affine())\n",
    "task1.get_data()[task1.get_data() > 0] = 1\n",
    "niplt.plot_roi(task1)"
   ]
  },
  {
   "cell_type": "code",
   "execution_count": null,
   "metadata": {},
   "outputs": [],
   "source": [
    "nib.save(task1, 'EVT mask.nii') #saving the mask"
   ]
  }
 ],
 "metadata": {
  "kernelspec": {
   "display_name": "Python 3",
   "language": "python",
   "name": "python3"
  },
  "language_info": {
   "codemirror_mode": {
    "name": "ipython",
    "version": 3
   },
   "file_extension": ".py",
   "mimetype": "text/x-python",
   "name": "python",
   "nbconvert_exporter": "python",
   "pygments_lexer": "ipython3",
   "version": "3.6.4"
  }
 },
 "nbformat": 4,
 "nbformat_minor": 2
}
